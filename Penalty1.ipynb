{
 "metadata": {
  "language_info": {
   "codemirror_mode": {
    "name": "ipython",
    "version": 3
   },
   "file_extension": ".py",
   "mimetype": "text/x-python",
   "name": "python",
   "nbconvert_exporter": "python",
   "pygments_lexer": "ipython3",
   "version": "3.8.5-final"
  },
  "orig_nbformat": 2,
  "kernelspec": {
   "name": "python3",
   "display_name": "Python 3.8.5 64-bit (conda)",
   "metadata": {
    "interpreter": {
     "hash": "cd8ac7ed5329ff1f59a8356dfddf06d159cf18414acbfd7b13d1d5cd1cbb5d7d"
    }
   }
  }
 },
 "nbformat": 4,
 "nbformat_minor": 2,
 "cells": [
  {
   "source": [
    "IMPORTING MODULES"
   ],
   "cell_type": "markdown",
   "metadata": {}
  },
  {
   "cell_type": "code",
   "execution_count": 12,
   "metadata": {},
   "outputs": [],
   "source": [
    "import requests \n",
    "from bs4 import BeautifulSoup\n",
    "import time\n",
    "import random\n",
    "import pandas as pd\n",
    "import numpy as np\n",
    "import seaborn as sns\n",
    "import lux"
   ]
  },
  {
   "source": [
    "SOURCE OF THE DATA"
   ],
   "cell_type": "markdown",
   "metadata": {}
  },
  {
   "cell_type": "code",
   "execution_count": 4,
   "metadata": {},
   "outputs": [],
   "source": [
    "root = \"https://www.statbunker.com/competitions/Penalties?comp_id=\""
   ]
  },
  {
   "source": [
    "INDEXING LEAGUES"
   ],
   "cell_type": "markdown",
   "metadata": {}
  },
  {
   "cell_type": "code",
   "execution_count": 5,
   "metadata": {},
   "outputs": [],
   "source": [
    "PL = [200,243,279,323,373,415,449,481,515,556,586,614,639]\n",
    "Laliga = [212,259,293,336,378,413,461,485,518,564,600,622,648] #start 07/08\n",
    "Seria = [211,258,292,337,377,414,462,486,517,562,593,623,649]\n",
    "bundes = [204,250,285,330,374,416,447,483,516,561,591,620,646]\n",
    "france = [202,251,284,331,375,412,454,484,514,563,594,621,647]\n",
    "championship = [207,246,280,325,370,420,451,488,524,557,587,615,640]\n",
    "scottish = [205,249,283,329,369,419,455,491,521,566,590,618,643]\n",
    "CL = [203,261,295,332,366,429,468,500,540,571,601,628,655]#07/08\n",
    "europa = [296,335,362,430,470,501,541,572,602,629,656] #09/10"
   ]
  },
  {
   "cell_type": "code",
   "execution_count": 6,
   "metadata": {},
   "outputs": [],
   "source": [
    "year_list = [str(i)+\"/\" + str(i+1) for i in range (7,20)]\n",
    "year_europa = [str(i)+\"/\" + str(i+1) for i in range (9,20)]"
   ]
  },
  {
   "cell_type": "code",
   "execution_count": 7,
   "metadata": {},
   "outputs": [],
   "source": [
    "cup_dict = {\"Premier League\": PL,\n",
    "           \"La Liga\": Laliga,\n",
    "           \"Bundesliga\": bundes,\n",
    "           \"Ligue One\": france,\n",
    "           \"English Championship\": championship,\n",
    "           \"Scottish Premiership\": scottish,\n",
    "           \"Champion League\": CL,\n",
    "           \"Europa Cup\": europa}"
   ]
  },
  {
   "cell_type": "code",
   "execution_count": 8,
   "metadata": {},
   "outputs": [],
   "source": [
    "# scrape for PL first then append the others later\n",
    "full_name, full_club, full_year, full_league, full_penalties, full_home, full_away, full_scored, full_missed, full_saved = ([] for i in range(10))"
   ]
  },
  {
   "cell_type": "code",
   "execution_count": 9,
   "metadata": {},
   "outputs": [
    {
     "output_type": "stream",
     "name": "stdout",
     "text": [
      "Done Premier League, season 7/8\n",
      "Done Premier League, season 8/9\n",
      "Done Premier League, season 9/10\n",
      "Done Premier League, season 10/11\n",
      "Done Premier League, season 11/12\n",
      "Done Premier League, season 12/13\n",
      "Done Premier League, season 13/14\n",
      "Done Premier League, season 14/15\n",
      "Done Premier League, season 15/16\n",
      "Done Premier League, season 16/17\n",
      "Done Premier League, season 17/18\n",
      "Done Premier League, season 18/19\n",
      "Done Premier League, season 19/20\n",
      "Done La Liga, season 7/8\n",
      "Done La Liga, season 8/9\n",
      "Done La Liga, season 9/10\n",
      "Done La Liga, season 10/11\n",
      "Done La Liga, season 11/12\n",
      "Done La Liga, season 12/13\n",
      "Done La Liga, season 13/14\n",
      "Done La Liga, season 14/15\n",
      "Done La Liga, season 15/16\n",
      "Done La Liga, season 16/17\n",
      "Done La Liga, season 17/18\n",
      "Done La Liga, season 18/19\n",
      "Done La Liga, season 19/20\n",
      "Done Bundesliga, season 7/8\n",
      "Done Bundesliga, season 8/9\n",
      "Done Bundesliga, season 9/10\n",
      "Done Bundesliga, season 10/11\n",
      "Done Bundesliga, season 11/12\n",
      "Done Bundesliga, season 12/13\n",
      "Done Bundesliga, season 13/14\n",
      "Done Bundesliga, season 14/15\n",
      "Done Bundesliga, season 15/16\n",
      "Done Bundesliga, season 16/17\n",
      "Done Bundesliga, season 17/18\n",
      "Done Bundesliga, season 18/19\n",
      "Done Bundesliga, season 19/20\n",
      "Done Ligue One, season 7/8\n",
      "Done Ligue One, season 8/9\n",
      "Done Ligue One, season 9/10\n",
      "Done Ligue One, season 10/11\n",
      "Done Ligue One, season 11/12\n",
      "Done Ligue One, season 12/13\n",
      "Done Ligue One, season 13/14\n",
      "Done Ligue One, season 14/15\n",
      "Done Ligue One, season 15/16\n",
      "Done Ligue One, season 16/17\n",
      "Done Ligue One, season 17/18\n",
      "Done Ligue One, season 18/19\n",
      "Done Ligue One, season 19/20\n",
      "Done English Championship, season 7/8\n",
      "Done English Championship, season 8/9\n",
      "Done English Championship, season 9/10\n",
      "Done English Championship, season 10/11\n",
      "Done English Championship, season 11/12\n",
      "Done English Championship, season 12/13\n",
      "Done English Championship, season 13/14\n",
      "Done English Championship, season 14/15\n",
      "Done English Championship, season 15/16\n",
      "Done English Championship, season 16/17\n",
      "Done English Championship, season 17/18\n",
      "Done English Championship, season 18/19\n",
      "Done English Championship, season 19/20\n",
      "Done Scottish Premiership, season 7/8\n",
      "Done Scottish Premiership, season 8/9\n",
      "Done Scottish Premiership, season 9/10\n",
      "Done Scottish Premiership, season 10/11\n",
      "Done Scottish Premiership, season 11/12\n",
      "Done Scottish Premiership, season 12/13\n",
      "Done Scottish Premiership, season 13/14\n",
      "Done Scottish Premiership, season 14/15\n",
      "Done Scottish Premiership, season 15/16\n",
      "Done Scottish Premiership, season 16/17\n",
      "Done Scottish Premiership, season 17/18\n",
      "Done Scottish Premiership, season 18/19\n",
      "Done Scottish Premiership, season 19/20\n",
      "Done Champion League, season 7/8\n",
      "Done Champion League, season 8/9\n",
      "Done Champion League, season 9/10\n",
      "Done Champion League, season 10/11\n",
      "Done Champion League, season 11/12\n",
      "Done Champion League, season 12/13\n",
      "Done Champion League, season 13/14\n",
      "Done Champion League, season 14/15\n",
      "Done Champion League, season 15/16\n",
      "Done Champion League, season 16/17\n",
      "Done Champion League, season 17/18\n",
      "Done Champion League, season 18/19\n",
      "Done Champion League, season 19/20\n",
      "Done Europa Cup, season 9/10\n",
      "Done Europa Cup, season 10/11\n",
      "Done Europa Cup, season 11/12\n",
      "Done Europa Cup, season 12/13\n",
      "Done Europa Cup, season 13/14\n",
      "Done Europa Cup, season 14/15\n",
      "Done Europa Cup, season 15/16\n",
      "Done Europa Cup, season 16/17\n",
      "Done Europa Cup, season 17/18\n",
      "Done Europa Cup, season 18/19\n",
      "Done Europa Cup, season 19/20\n"
     ]
    }
   ],
   "source": [
    "for cup in cup_dict:\n",
    "    if cup == \"Europa Cup\":\n",
    "        season = year_europa\n",
    "    else:\n",
    "        season = year_list\n",
    "        \n",
    "    name, club, year, league, penalties, home, away, scored, missed, saved = ([] for i in range(10))\n",
    "    code_enum = cup_dict[cup]\n",
    "    for count, el in enumerate(code_enum):\n",
    "        URL = root + str(el)\n",
    "        r = requests.get(URL)\n",
    "        soup = BeautifulSoup(r.content, 'html5lib')\n",
    "        details = soup.findAll(True, {'class':['odd', 'even']})\n",
    "        for row in details:\n",
    "            el_list = list(row.strings)\n",
    "            name.append(el_list[0])\n",
    "            club.append(el_list[1])\n",
    "            year.append(season[count])\n",
    "            league.append(cup)\n",
    "            penalties.append(el_list[2])\n",
    "            home.append(el_list[3])\n",
    "            away.append(el_list[4])\n",
    "            scored.append(el_list[5])\n",
    "            missed.append(el_list[6])\n",
    "            saved.append(el_list[7])\n",
    "        print (\"Done \" + cup + \", season \" + season[count])\n",
    "        time.sleep(random.randint(1,5))\n",
    "    full_name += name\n",
    "    full_club += club\n",
    "    full_year += year\n",
    "    full_league += league\n",
    "    full_penalties += penalties\n",
    "    full_home += home\n",
    "    full_away += away\n",
    "    full_scored += scored\n",
    "    full_missed += missed\n",
    "    full_saved += saved"
   ]
  },
  {
   "cell_type": "code",
   "execution_count": 13,
   "metadata": {},
   "outputs": [
    {
     "output_type": "stream",
     "name": "stderr",
     "text": [
      "C:\\Users\\DELL\\anaconda3\\lib\\site-packages\\lux\\executor\\PandasExecutor.py:401: UserWarning:\n",
      "Lux detects that the attribute 'year' may be temporal.\n",
      "To display visualizations for these attributes accurately, please convert temporal attributes to Pandas Datetime objects using the pd.to_datetime function and provide a 'format' parameter to specify the datetime format of the attribute.\n",
      "For example, you can convert a year-only attribute (e.g., 1998, 1971, 1982) to Datetime type by specifying the `format` as '%Y'.\n",
      "\n",
      "Here is a starter template that you can use for converting the temporal fields:\n",
      "\tdf['year'] = pd.to_datetime(df['year'], format='<replace-with-datetime-format>')\n",
      "\n",
      "See more at: https://pandas.pydata.org/pandas-docs/stable/reference/api/pandas.to_datetime.html\n",
      "If year is not a temporal attribute, please use override Lux's automatically detected type:\n",
      "\tdf.set_data_type({'year':'quantitative'})\n",
      "C:\\Users\\DELL\\anaconda3\\lib\\site-packages\\IPython\\core\\formatters.py:345: UserWarning:\n",
      "Unexpected error in rendering Lux widget and recommendations. Falling back to Pandas display.\n",
      "Please report the following issue on Github: https://github.com/lux-org/lux/issues \n",
      "\n",
      "C:\\Users\\DELL\\anaconda3\\lib\\site-packages\\lux\\core\\frame.py:700: UserWarning:Traceback (most recent call last):\n",
      "  File \"C:\\Users\\DELL\\anaconda3\\lib\\site-packages\\lux\\core\\frame.py\", line 651, in _repr_html_\n",
      "    self.maintain_recs()\n",
      "  File \"C:\\Users\\DELL\\anaconda3\\lib\\site-packages\\lux\\core\\frame.py\", line 493, in maintain_recs\n",
      "    self._widget = rec_df.render_widget()\n",
      "  File \"C:\\Users\\DELL\\anaconda3\\lib\\site-packages\\lux\\core\\frame.py\", line 749, in render_widget\n",
      "    widgetJSON = self.to_JSON(self._rec_info, input_current_vis=input_current_vis)\n",
      "  File \"C:\\Users\\DELL\\anaconda3\\lib\\site-packages\\lux\\core\\frame.py\", line 788, in to_JSON\n",
      "    recCollection = LuxDataFrame.rec_to_JSON(rec_infolist)\n",
      "  File \"C:\\Users\\DELL\\anaconda3\\lib\\site-packages\\lux\\core\\frame.py\", line 812, in rec_to_JSON\n",
      "    chart = vis.to_code(language=lux.config.plotting_backend, prettyOutput=False)\n",
      "  File \"C:\\Users\\DELL\\anaconda3\\lib\\site-packages\\lux\\vis\\Vis.py\", line 307, in to_code\n",
      "    return self.to_VegaLite(**kwargs)\n",
      "  File \"C:\\Users\\DELL\\anaconda3\\lib\\site-packages\\lux\\vis\\Vis.py\", line 283, in to_VegaLite\n",
      "    self._code = renderer.create_vis(self)\n",
      "  File \"C:\\Users\\DELL\\anaconda3\\lib\\site-packages\\lux\\vislib\\altair\\AltairRenderer.py\", line 94, in create_vis\n",
      "    chart_dict = chart.chart.to_dict()\n",
      "  File \"C:\\Users\\DELL\\anaconda3\\lib\\site-packages\\altair\\vegalite\\v4\\api.py\", line 373, in to_dict\n",
      "    dct = super(TopLevelMixin, copy).to_dict(*args, **kwargs)\n",
      "  File \"C:\\Users\\DELL\\anaconda3\\lib\\site-packages\\altair\\utils\\schemapi.py\", line 325, in to_dict\n",
      "    result = _todict(\n",
      "  File \"C:\\Users\\DELL\\anaconda3\\lib\\site-packages\\altair\\utils\\schemapi.py\", line 60, in _todict\n",
      "    return {\n",
      "  File \"C:\\Users\\DELL\\anaconda3\\lib\\site-packages\\altair\\utils\\schemapi.py\", line 61, in <dictcomp>\n",
      "    k: _todict(v, validate, context)\n",
      "  File \"C:\\Users\\DELL\\anaconda3\\lib\\site-packages\\altair\\utils\\schemapi.py\", line 58, in _todict\n",
      "    return [_todict(v, validate, context) for v in obj]\n",
      "  File \"C:\\Users\\DELL\\anaconda3\\lib\\site-packages\\altair\\utils\\schemapi.py\", line 58, in <listcomp>\n",
      "    return [_todict(v, validate, context) for v in obj]\n",
      "  File \"C:\\Users\\DELL\\anaconda3\\lib\\site-packages\\altair\\utils\\schemapi.py\", line 56, in _todict\n",
      "    return obj.to_dict(validate=validate, context=context)\n",
      "  File \"C:\\Users\\DELL\\anaconda3\\lib\\site-packages\\altair\\vegalite\\v4\\api.py\", line 363, in to_dict\n",
      "    copy.data = _prepare_data(original_data, context)\n",
      "  File \"C:\\Users\\DELL\\anaconda3\\lib\\site-packages\\altair\\vegalite\\v4\\api.py\", line 84, in _prepare_data\n",
      "    data = _pipe(data, data_transformers.get())\n",
      "  File \"C:\\Users\\DELL\\anaconda3\\lib\\site-packages\\toolz\\functoolz.py\", line 627, in pipe\n",
      "    data = func(data)\n",
      "  File \"C:\\Users\\DELL\\anaconda3\\lib\\site-packages\\toolz\\functoolz.py\", line 303, in __call__\n",
      "    return self._partial(*args, **kwargs)\n",
      "  File \"C:\\Users\\DELL\\anaconda3\\lib\\site-packages\\altair\\vegalite\\data.py\", line 19, in default_data_transformer\n",
      "    return curried.pipe(data, limit_rows(max_rows=max_rows), to_values)\n",
      "  File \"C:\\Users\\DELL\\anaconda3\\lib\\site-packages\\toolz\\functoolz.py\", line 627, in pipe\n",
      "    data = func(data)\n",
      "  File \"C:\\Users\\DELL\\anaconda3\\lib\\site-packages\\toolz\\functoolz.py\", line 303, in __call__\n",
      "    return self._partial(*args, **kwargs)\n",
      "  File \"C:\\Users\\DELL\\anaconda3\\lib\\site-packages\\altair\\utils\\data.py\", line 149, in to_values\n",
      "    data = sanitize_dataframe(data)\n",
      "  File \"C:\\Users\\DELL\\anaconda3\\lib\\site-packages\\altair\\utils\\core.py\", line 343, in sanitize_dataframe\n",
      "    bad_values = col.isnull() | np.isinf(col)\n",
      "  File \"C:\\Users\\DELL\\anaconda3\\lib\\site-packages\\pandas\\core\\series.py\", line 726, in __array_ufunc__\n",
      "    result = getattr(ufunc, method)(*inputs, **kwargs)\n",
      "TypeError: ufunc 'isinf' not supported for the input types, and the inputs could not be safely coerced to any supported types according to the casting rule ''safe''\n",
      "\n"
     ]
    },
    {
     "output_type": "display_data",
     "data": {
      "text/plain": "                   name                  club   year          league  \\\n0        Benni McCarthy     Blackburn Rovers     7/8  Premier League   \n1          Gareth Barry          Aston Villa     7/8  Premier League   \n2     Cristiano Ronaldo    Manchester United     7/8  Premier League   \n3          Robbie Keane    Tottenham Hotspur     7/8  Premier League   \n4         Frank Lampard              Chelsea     7/8  Premier League   \n...                 ...                   ...    ...             ...   \n4198         Jaime Mata               Getafe   19/20      Europa Cup   \n4199       Roger Assale       BSC Young Boys   19/20      Europa Cup   \n4200        Lars Stindl  Borussia M'gladbach   19/20      Europa Cup   \n4201   Viktor Tsyhankov          Dynamo Kyiv   19/20      Europa Cup   \n4202                Ari         FC Krasnodar   19/20      Europa Cup   \n\n     penalties home away scored missed saved  \n0            6    5    1      5      -     1  \n1            6    3    3      5      1     -  \n2            6    4    2      5      1     -  \n3            5    4    1      3      -     2  \n4            4    2    2      4      -     -  \n...        ...  ...  ...    ...    ...   ...  \n4198         1    -    1      1      -     -  \n4199         1    1    -      1      -     -  \n4200         1    -    1      1      -     -  \n4201         1    -    1      -      -     1  \n4202         1    1    -      1      -     -  \n\n[4203 rows x 10 columns]",
      "text/html": "<div>\n<style scoped>\n    .dataframe tbody tr th:only-of-type {\n        vertical-align: middle;\n    }\n\n    .dataframe tbody tr th {\n        vertical-align: top;\n    }\n\n    .dataframe thead th {\n        text-align: right;\n    }\n</style>\n<table border=\"1\" class=\"dataframe\">\n  <thead>\n    <tr style=\"text-align: right;\">\n      <th></th>\n      <th>name</th>\n      <th>club</th>\n      <th>year</th>\n      <th>league</th>\n      <th>penalties</th>\n      <th>home</th>\n      <th>away</th>\n      <th>scored</th>\n      <th>missed</th>\n      <th>saved</th>\n    </tr>\n  </thead>\n  <tbody>\n    <tr>\n      <th>0</th>\n      <td>Benni McCarthy</td>\n      <td>Blackburn Rovers</td>\n      <td>7/8</td>\n      <td>Premier League</td>\n      <td>6</td>\n      <td>5</td>\n      <td>1</td>\n      <td>5</td>\n      <td>-</td>\n      <td>1</td>\n    </tr>\n    <tr>\n      <th>1</th>\n      <td>Gareth Barry</td>\n      <td>Aston Villa</td>\n      <td>7/8</td>\n      <td>Premier League</td>\n      <td>6</td>\n      <td>3</td>\n      <td>3</td>\n      <td>5</td>\n      <td>1</td>\n      <td>-</td>\n    </tr>\n    <tr>\n      <th>2</th>\n      <td>Cristiano Ronaldo</td>\n      <td>Manchester United</td>\n      <td>7/8</td>\n      <td>Premier League</td>\n      <td>6</td>\n      <td>4</td>\n      <td>2</td>\n      <td>5</td>\n      <td>1</td>\n      <td>-</td>\n    </tr>\n    <tr>\n      <th>3</th>\n      <td>Robbie Keane</td>\n      <td>Tottenham Hotspur</td>\n      <td>7/8</td>\n      <td>Premier League</td>\n      <td>5</td>\n      <td>4</td>\n      <td>1</td>\n      <td>3</td>\n      <td>-</td>\n      <td>2</td>\n    </tr>\n    <tr>\n      <th>4</th>\n      <td>Frank Lampard</td>\n      <td>Chelsea</td>\n      <td>7/8</td>\n      <td>Premier League</td>\n      <td>4</td>\n      <td>2</td>\n      <td>2</td>\n      <td>4</td>\n      <td>-</td>\n      <td>-</td>\n    </tr>\n    <tr>\n      <th>...</th>\n      <td>...</td>\n      <td>...</td>\n      <td>...</td>\n      <td>...</td>\n      <td>...</td>\n      <td>...</td>\n      <td>...</td>\n      <td>...</td>\n      <td>...</td>\n      <td>...</td>\n    </tr>\n    <tr>\n      <th>4198</th>\n      <td>Jaime Mata</td>\n      <td>Getafe</td>\n      <td>19/20</td>\n      <td>Europa Cup</td>\n      <td>1</td>\n      <td>-</td>\n      <td>1</td>\n      <td>1</td>\n      <td>-</td>\n      <td>-</td>\n    </tr>\n    <tr>\n      <th>4199</th>\n      <td>Roger Assale</td>\n      <td>BSC Young Boys</td>\n      <td>19/20</td>\n      <td>Europa Cup</td>\n      <td>1</td>\n      <td>1</td>\n      <td>-</td>\n      <td>1</td>\n      <td>-</td>\n      <td>-</td>\n    </tr>\n    <tr>\n      <th>4200</th>\n      <td>Lars Stindl</td>\n      <td>Borussia M'gladbach</td>\n      <td>19/20</td>\n      <td>Europa Cup</td>\n      <td>1</td>\n      <td>-</td>\n      <td>1</td>\n      <td>1</td>\n      <td>-</td>\n      <td>-</td>\n    </tr>\n    <tr>\n      <th>4201</th>\n      <td>Viktor Tsyhankov</td>\n      <td>Dynamo Kyiv</td>\n      <td>19/20</td>\n      <td>Europa Cup</td>\n      <td>1</td>\n      <td>-</td>\n      <td>1</td>\n      <td>-</td>\n      <td>-</td>\n      <td>1</td>\n    </tr>\n    <tr>\n      <th>4202</th>\n      <td>Ari</td>\n      <td>FC Krasnodar</td>\n      <td>19/20</td>\n      <td>Europa Cup</td>\n      <td>1</td>\n      <td>1</td>\n      <td>-</td>\n      <td>1</td>\n      <td>-</td>\n      <td>-</td>\n    </tr>\n  </tbody>\n</table>\n<p>4203 rows × 10 columns</p>\n</div>"
     },
     "metadata": {}
    },
    {
     "output_type": "execute_result",
     "data": {
      "text/plain": []
     },
     "metadata": {},
     "execution_count": 13
    }
   ],
   "source": [
    "df = pd.DataFrame({'name': full_name, 'club': full_club,\n",
    "                      'year': full_year, 'league': full_league,\n",
    "                      'penalties': full_penalties, 'home': full_home, 'away': full_away,\n",
    "                      'scored': full_scored, 'missed': full_missed, 'saved': full_saved})\n",
    "df                "
   ]
  },
  {
   "cell_type": "code",
   "execution_count": 6,
   "metadata": {},
   "outputs": [],
   "source": [
    "#bs magic by adarsh here\n",
    "#give an output named table"
   ]
  },
  {
   "cell_type": "code",
   "execution_count": 7,
   "metadata": {},
   "outputs": [],
   "source": [
    "#table  = pd.DataFrame({constraints inserted here})"
   ]
  },
  {
   "cell_type": "code",
   "execution_count": 8,
   "metadata": {},
   "outputs": [],
   "source": [
    "#play with the table for penalty and predictor thingy"
   ]
  },
  {
   "cell_type": "code",
   "execution_count": 11,
   "metadata": {},
   "outputs": [
    {
     "output_type": "stream",
     "name": "stdout",
     "text": [
      "Collecting lux-api\n  Downloading lux-api-0.2.3.tar.gz (94 kB)\nRequirement already satisfied: scipy>=1.3.3 in c:\\users\\dell\\anaconda3\\lib\\site-packages (from lux-api) (1.5.2)\nCollecting altair>=4.0.0\n  Downloading altair-4.1.0-py3-none-any.whl (727 kB)\nRequirement already satisfied: numpy>=1.16.5 in c:\\users\\dell\\anaconda3\\lib\\site-packages (from lux-api) (1.19.2)\nRequirement already satisfied: pandas>=1.1.0 in c:\\users\\dell\\anaconda3\\lib\\site-packages (from lux-api) (1.1.3)\nRequirement already satisfied: scikit-learn>=0.22 in c:\\users\\dell\\anaconda3\\lib\\site-packages (from lux-api) (0.23.2)\nRequirement already satisfied: matplotlib>=3.0.0 in c:\\users\\dell\\anaconda3\\lib\\site-packages (from lux-api) (3.3.2)\nCollecting lux-widget>=0.1.4\n  Downloading lux-widget-0.1.4.tar.gz (2.1 MB)\nRequirement already satisfied: toolz in c:\\users\\dell\\anaconda3\\lib\\site-packages (from altair>=4.0.0->lux-api) (0.11.1)\nRequirement already satisfied: jinja2 in c:\\users\\dell\\anaconda3\\lib\\site-packages (from altair>=4.0.0->lux-api) (2.11.2)\nRequirement already satisfied: entrypoints in c:\\users\\dell\\anaconda3\\lib\\site-packages (from altair>=4.0.0->lux-api) (0.3)\nRequirement already satisfied: jsonschema in c:\\users\\dell\\anaconda3\\lib\\site-packages (from altair>=4.0.0->lux-api) (3.2.0)\nRequirement already satisfied: pytz>=2017.2 in c:\\users\\dell\\anaconda3\\lib\\site-packages (from pandas>=1.1.0->lux-api) (2020.1)\nRequirement already satisfied: python-dateutil>=2.7.3 in c:\\users\\dell\\anaconda3\\lib\\site-packages (from pandas>=1.1.0->lux-api) (2.8.1)\nRequirement already satisfied: threadpoolctl>=2.0.0 in c:\\users\\dell\\anaconda3\\lib\\site-packages (from scikit-learn>=0.22->lux-api) (2.1.0)\nRequirement already satisfied: joblib>=0.11 in c:\\users\\dell\\anaconda3\\lib\\site-packages (from scikit-learn>=0.22->lux-api) (0.17.0)\nRequirement already satisfied: certifi>=2020.06.20 in c:\\users\\dell\\anaconda3\\lib\\site-packages (from matplotlib>=3.0.0->lux-api) (2020.6.20)\nRequirement already satisfied: cycler>=0.10 in c:\\users\\dell\\anaconda3\\lib\\site-packages (from matplotlib>=3.0.0->lux-api) (0.10.0)\nRequirement already satisfied: pyparsing!=2.0.4,!=2.1.2,!=2.1.6,>=2.0.3 in c:\\users\\dell\\anaconda3\\lib\\site-packages (from matplotlib>=3.0.0->lux-api) (2.4.7)\nRequirement already satisfied: pillow>=6.2.0 in c:\\users\\dell\\anaconda3\\lib\\site-packages (from matplotlib>=3.0.0->lux-api) (8.0.1)\nRequirement already satisfied: kiwisolver>=1.0.1 in c:\\users\\dell\\anaconda3\\lib\\site-packages (from matplotlib>=3.0.0->lux-api) (1.3.0)\nRequirement already satisfied: jupyter in c:\\users\\dell\\anaconda3\\lib\\site-packages (from lux-widget>=0.1.4->lux-api) (1.0.0)\nRequirement already satisfied: notebook>=4.0.0 in c:\\users\\dell\\anaconda3\\lib\\site-packages (from lux-widget>=0.1.4->lux-api) (6.1.4)\nRequirement already satisfied: ipywidgets>=7.5.0 in c:\\users\\dell\\anaconda3\\lib\\site-packages (from lux-widget>=0.1.4->lux-api) (7.5.1)\nRequirement already satisfied: MarkupSafe>=0.23 in c:\\users\\dell\\anaconda3\\lib\\site-packages (from jinja2->altair>=4.0.0->lux-api) (1.1.1)\nRequirement already satisfied: pyrsistent>=0.14.0 in c:\\users\\dell\\anaconda3\\lib\\site-packages (from jsonschema->altair>=4.0.0->lux-api) (0.17.3)\nRequirement already satisfied: setuptools in c:\\users\\dell\\anaconda3\\lib\\site-packages (from jsonschema->altair>=4.0.0->lux-api) (50.3.1.post20201107)\nRequirement already satisfied: six>=1.11.0 in c:\\users\\dell\\anaconda3\\lib\\site-packages (from jsonschema->altair>=4.0.0->lux-api) (1.15.0)\nRequirement already satisfied: attrs>=17.4.0 in c:\\users\\dell\\anaconda3\\lib\\site-packages (from jsonschema->altair>=4.0.0->lux-api) (20.3.0)\nRequirement already satisfied: jupyter-console in c:\\users\\dell\\anaconda3\\lib\\site-packages (from jupyter->lux-widget>=0.1.4->lux-api) (6.2.0)\nRequirement already satisfied: qtconsole in c:\\users\\dell\\anaconda3\\lib\\site-packages (from jupyter->lux-widget>=0.1.4->lux-api) (4.7.7)\nRequirement already satisfied: ipykernel in c:\\users\\dell\\anaconda3\\lib\\site-packages (from jupyter->lux-widget>=0.1.4->lux-api) (5.3.4)\nRequirement already satisfied: nbconvert in c:\\users\\dell\\anaconda3\\lib\\site-packages (from jupyter->lux-widget>=0.1.4->lux-api) (6.0.7)\nRequirement already satisfied: nbformat in c:\\users\\dell\\anaconda3\\lib\\site-packages (from notebook>=4.0.0->lux-widget>=0.1.4->lux-api) (5.0.8)\nRequirement already satisfied: Send2Trash in c:\\users\\dell\\anaconda3\\lib\\site-packages (from notebook>=4.0.0->lux-widget>=0.1.4->lux-api) (1.5.0)\nRequirement already satisfied: ipython-genutils in c:\\users\\dell\\anaconda3\\lib\\site-packages (from notebook>=4.0.0->lux-widget>=0.1.4->lux-api) (0.2.0)\nRequirement already satisfied: argon2-cffi in c:\\users\\dell\\anaconda3\\lib\\site-packages (from notebook>=4.0.0->lux-widget>=0.1.4->lux-api) (20.1.0)\nRequirement already satisfied: terminado>=0.8.3 in c:\\users\\dell\\anaconda3\\lib\\site-packages (from notebook>=4.0.0->lux-widget>=0.1.4->lux-api) (0.9.1)\nRequirement already satisfied: tornado>=5.0 in c:\\users\\dell\\anaconda3\\lib\\site-packages (from notebook>=4.0.0->lux-widget>=0.1.4->lux-api) (6.0.4)\nRequirement already satisfied: traitlets>=4.2.1 in c:\\users\\dell\\anaconda3\\lib\\site-packages (from notebook>=4.0.0->lux-widget>=0.1.4->lux-api) (5.0.5)\nRequirement already satisfied: jupyter-core>=4.6.1 in c:\\users\\dell\\anaconda3\\lib\\site-packages (from notebook>=4.0.0->lux-widget>=0.1.4->lux-api) (4.6.3)\nRequirement already satisfied: prometheus-client in c:\\users\\dell\\anaconda3\\lib\\site-packages (from notebook>=4.0.0->lux-widget>=0.1.4->lux-api) (0.8.0)\nRequirement already satisfied: pyzmq>=17 in c:\\users\\dell\\anaconda3\\lib\\site-packages (from notebook>=4.0.0->lux-widget>=0.1.4->lux-api) (19.0.2)\nRequirement already satisfied: jupyter-client>=5.3.4 in c:\\users\\dell\\anaconda3\\lib\\site-packages (from notebook>=4.0.0->lux-widget>=0.1.4->lux-api) (6.1.7)\nRequirement already satisfied: widgetsnbextension~=3.5.0 in c:\\users\\dell\\anaconda3\\lib\\site-packages (from ipywidgets>=7.5.0->lux-widget>=0.1.4->lux-api) (3.5.1)\nRequirement already satisfied: ipython>=4.0.0; python_version >= \"3.3\" in c:\\users\\dell\\anaconda3\\lib\\site-packages (from ipywidgets>=7.5.0->lux-widget>=0.1.4->lux-api) (7.19.0)\nRequirement already satisfied: prompt-toolkit!=3.0.0,!=3.0.1,<3.1.0,>=2.0.0 in c:\\users\\dell\\anaconda3\\lib\\site-packages (from jupyter-console->jupyter->lux-widget>=0.1.4->lux-api) (3.0.8)\nRequirement already satisfied: pygments in c:\\users\\dell\\anaconda3\\lib\\site-packages (from jupyter-console->jupyter->lux-widget>=0.1.4->lux-api) (2.7.2)\nRequirement already satisfied: qtpy in c:\\users\\dell\\anaconda3\\lib\\site-packages (from qtconsole->jupyter->lux-widget>=0.1.4->lux-api) (1.9.0)\nRequirement already satisfied: jupyterlab-pygments in c:\\users\\dell\\anaconda3\\lib\\site-packages (from nbconvert->jupyter->lux-widget>=0.1.4->lux-api) (0.1.2)\nRequirement already satisfied: pandocfilters>=1.4.1 in c:\\users\\dell\\anaconda3\\lib\\site-packages (from nbconvert->jupyter->lux-widget>=0.1.4->lux-api) (1.4.3)\nRequirement already satisfied: defusedxml in c:\\users\\dell\\anaconda3\\lib\\site-packages (from nbconvert->jupyter->lux-widget>=0.1.4->lux-api) (0.6.0)\nRequirement already satisfied: bleach in c:\\users\\dell\\anaconda3\\lib\\site-packages (from nbconvert->jupyter->lux-widget>=0.1.4->lux-api) (3.2.1)\nRequirement already satisfied: mistune<2,>=0.8.1 in c:\\users\\dell\\anaconda3\\lib\\site-packages (from nbconvert->jupyter->lux-widget>=0.1.4->lux-api) (0.8.4)\nRequirement already satisfied: nbclient<0.6.0,>=0.5.0 in c:\\users\\dell\\anaconda3\\lib\\site-packages (from nbconvert->jupyter->lux-widget>=0.1.4->lux-api) (0.5.1)\nRequirement already satisfied: testpath in c:\\users\\dell\\anaconda3\\lib\\site-packages (from nbconvert->jupyter->lux-widget>=0.1.4->lux-api) (0.4.4)\nRequirement already satisfied: cffi>=1.0.0 in c:\\users\\dell\\anaconda3\\lib\\site-packages (from argon2-cffi->notebook>=4.0.0->lux-widget>=0.1.4->lux-api) (1.14.3)\nRequirement already satisfied: pywinpty>=0.5 in c:\\users\\dell\\anaconda3\\lib\\site-packages (from terminado>=0.8.3->notebook>=4.0.0->lux-widget>=0.1.4->lux-api) (0.5.7)\nRequirement already satisfied: pywin32>=1.0; sys_platform == \"win32\" in c:\\users\\dell\\anaconda3\\lib\\site-packages (from jupyter-core>=4.6.1->notebook>=4.0.0->lux-widget>=0.1.4->lux-api) (227)\nRequirement already satisfied: backcall in c:\\users\\dell\\anaconda3\\lib\\site-packages (from ipython>=4.0.0; python_version >= \"3.3\"->ipywidgets>=7.5.0->lux-widget>=0.1.4->lux-api) (0.2.0)\nRequirement already satisfied: pickleshare in c:\\users\\dell\\anaconda3\\lib\\site-packages (from ipython>=4.0.0; python_version >= \"3.3\"->ipywidgets>=7.5.0->lux-widget>=0.1.4->lux-api) (0.7.5)\nRequirement already satisfied: decorator in c:\\users\\dell\\anaconda3\\lib\\site-packages (from ipython>=4.0.0; python_version >= \"3.3\"->ipywidgets>=7.5.0->lux-widget>=0.1.4->lux-api) (4.4.2)\nRequirement already satisfied: jedi>=0.10 in c:\\users\\dell\\anaconda3\\lib\\site-packages (from ipython>=4.0.0; python_version >= \"3.3\"->ipywidgets>=7.5.0->lux-widget>=0.1.4->lux-api) (0.17.1)\nRequirement already satisfied: colorama; sys_platform == \"win32\" in c:\\users\\dell\\anaconda3\\lib\\site-packages (from ipython>=4.0.0; python_version >= \"3.3\"->ipywidgets>=7.5.0->lux-widget>=0.1.4->lux-api) (0.4.4)\nRequirement already satisfied: wcwidth in c:\\users\\dell\\anaconda3\\lib\\site-packages (from prompt-toolkit!=3.0.0,!=3.0.1,<3.1.0,>=2.0.0->jupyter-console->jupyter->lux-widget>=0.1.4->lux-api) (0.2.5)\nRequirement already satisfied: webencodings in c:\\users\\dell\\anaconda3\\lib\\site-packages (from bleach->nbconvert->jupyter->lux-widget>=0.1.4->lux-api) (0.5.1)\nRequirement already satisfied: packaging in c:\\users\\dell\\anaconda3\\lib\\site-packages (from bleach->nbconvert->jupyter->lux-widget>=0.1.4->lux-api) (20.4)\nRequirement already satisfied: async-generator in c:\\users\\dell\\anaconda3\\lib\\site-packages (from nbclient<0.6.0,>=0.5.0->nbconvert->jupyter->lux-widget>=0.1.4->lux-api) (1.10)\nRequirement already satisfied: nest-asyncio in c:\\users\\dell\\anaconda3\\lib\\site-packages (from nbclient<0.6.0,>=0.5.0->nbconvert->jupyter->lux-widget>=0.1.4->lux-api) (1.4.2)\nRequirement already satisfied: pycparser in c:\\users\\dell\\anaconda3\\lib\\site-packages (from cffi>=1.0.0->argon2-cffi->notebook>=4.0.0->lux-widget>=0.1.4->lux-api) (2.20)\nRequirement already satisfied: parso<0.8.0,>=0.7.0 in c:\\users\\dell\\anaconda3\\lib\\site-packages (from jedi>=0.10->ipython>=4.0.0; python_version >= \"3.3\"->ipywidgets>=7.5.0->lux-widget>=0.1.4->lux-api) (0.7.0)\nBuilding wheels for collected packages: lux-api, lux-widget\n  Building wheel for lux-api (setup.py): started\n  Building wheel for lux-api (setup.py): finished with status 'done'\n  Created wheel for lux-api: filename=lux_api-0.2.3-py3-none-any.whl size=146695 sha256=d202dcbccf1dbc0b8f1346df598940af3274a1ad9d2c73f286b0746c7129e57b\n  Stored in directory: c:\\users\\dell\\appdata\\local\\pip\\cache\\wheels\\ea\\93\\4b\\686afa536d15cb93b739f0de1940b9d8a3a87341e29bc7d196\n  Building wheel for lux-widget (setup.py): started\n  Building wheel for lux-widget (setup.py): finished with status 'done'\n  Created wheel for lux-widget: filename=lux_widget-0.1.4-py3-none-any.whl size=4294799 sha256=32c603cb1224b432d1aa4db0b4faf9120f41b459066962b3f980e897880e0cc1\n  Stored in directory: c:\\users\\dell\\appdata\\local\\pip\\cache\\wheels\\59\\83\\e9\\ea3f58a20aaa967497d192746007f9afc64ef95838f851ade8\nSuccessfully built lux-api lux-widget\nInstalling collected packages: altair, lux-widget, lux-api\nSuccessfully installed altair-4.1.0 lux-api-0.2.3 lux-widget-0.1.4\n"
     ]
    }
   ],
   "source": [
    "!pip install lux-api"
   ]
  },
  {
   "cell_type": "code",
   "execution_count": null,
   "metadata": {},
   "outputs": [],
   "source": []
  }
 ]
}