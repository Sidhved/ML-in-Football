{
 "metadata": {
  "language_info": {
   "codemirror_mode": {
    "name": "ipython",
    "version": 3
   },
   "file_extension": ".py",
   "mimetype": "text/x-python",
   "name": "python",
   "nbconvert_exporter": "python",
   "pygments_lexer": "ipython3",
   "version": "3.8.5-final"
  },
  "orig_nbformat": 2,
  "kernelspec": {
   "name": "python3",
   "display_name": "Python 3.8.5 64-bit (conda)",
   "metadata": {
    "interpreter": {
     "hash": "cd8ac7ed5329ff1f59a8356dfddf06d159cf18414acbfd7b13d1d5cd1cbb5d7d"
    }
   }
  }
 },
 "nbformat": 4,
 "nbformat_minor": 2,
 "cells": [
  {
   "source": [
    "IMPORTING MODULES"
   ],
   "cell_type": "markdown",
   "metadata": {}
  },
  {
   "cell_type": "code",
   "execution_count": 1,
   "metadata": {},
   "outputs": [],
   "source": [
    "import requests \n",
    "from bs4 import BeautifulSoup\n",
    "import time\n",
    "import random\n",
    "import pandas as pd\n",
    "import numpy as np\n",
    "import seaborn as sns\n",
    "import matplotlib.pyplot as plt"
   ]
  },
  {
   "source": [
    "SOURCE OF THE DATA"
   ],
   "cell_type": "markdown",
   "metadata": {}
  },
  {
   "cell_type": "code",
   "execution_count": 2,
   "metadata": {},
   "outputs": [],
   "source": [
    "root = \"https://www.statbunker.com/competitions/Penalties?comp_id=\""
   ]
  },
  {
   "source": [
    "INDEXING LEAGUES"
   ],
   "cell_type": "markdown",
   "metadata": {}
  },
  {
   "cell_type": "code",
   "execution_count": 3,
   "metadata": {},
   "outputs": [],
   "source": [
    "PL = [200,243,279,323,373,415,449,481,515,556,586,614,639]\n",
    "Laliga = [212,259,293,336,378,413,461,485,518,564,600,622,648] #start 07/08\n",
    "Seria = [211,258,292,337,377,414,462,486,517,562,593,623,649]\n",
    "bundes = [204,250,285,330,374,416,447,483,516,561,591,620,646]\n",
    "france = [202,251,284,331,375,412,454,484,514,563,594,621,647]\n",
    "championship = [207,246,280,325,370,420,451,488,524,557,587,615,640]\n",
    "scottish = [205,249,283,329,369,419,455,491,521,566,590,618,643]\n",
    "CL = [203,261,295,332,366,429,468,500,540,571,601,628,655]#07/08\n",
    "europa = [296,335,362,430,470,501,541,572,602,629,656] #09/10"
   ]
  },
  {
   "cell_type": "code",
   "execution_count": 4,
   "metadata": {},
   "outputs": [],
   "source": [
    "year_list = [str(i)+\"/\" + str(i+1) for i in range (7,20)]\n",
    "year_europa = [str(i)+\"/\" + str(i+1) for i in range (9,20)]"
   ]
  },
  {
   "cell_type": "code",
   "execution_count": null,
   "metadata": {},
   "outputs": [],
   "source": []
  }
 ]
}