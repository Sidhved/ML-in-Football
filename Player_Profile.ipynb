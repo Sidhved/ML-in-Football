{
  "nbformat": 4,
  "nbformat_minor": 0,
  "metadata": {
    "colab": {
      "name": "Player_Profile.ipynb",
      "provenance": [],
      "collapsed_sections": [],
      "mount_file_id": "1fZL-m3yBNzbfPHTcRLGaKKvWth3LYg-E",
      "authorship_tag": "ABX9TyP5a/9iHr3txT1O4i/fvBqU",
      "include_colab_link": true
    },
    "kernelspec": {
      "name": "python3",
      "display_name": "Python 3"
    }
  },
  "cells": [
    {
      "cell_type": "markdown",
      "metadata": {
        "id": "view-in-github",
        "colab_type": "text"
      },
      "source": [
        "<a href=\"https://colab.research.google.com/github/Sidhved/ML-in-Football/blob/main/Player_Profile.ipynb\" target=\"_parent\"><img src=\"https://colab.research.google.com/assets/colab-badge.svg\" alt=\"Open In Colab\"/></a>"
      ]
    },
    {
      "cell_type": "markdown",
      "metadata": {
        "id": "rbwhqz_WnuCl"
      },
      "source": [
        "**DATA SET REPOSITORY**"
      ]
    },
    {
      "cell_type": "code",
      "metadata": {
        "colab": {
          "base_uri": "https://localhost:8080/"
        },
        "id": "3QtmTwqFnKmc",
        "outputId": "8ea8ecfd-fb6b-4646-ba95-273ae0fa6337"
      },
      "source": [
        "!git clone https://github.com/Sidhved/open-data"
      ],
      "execution_count": 1,
      "outputs": [
        {
          "output_type": "stream",
          "text": [
            "Cloning into 'open-data'...\n",
            "remote: Enumerating objects: 222, done.\u001b[K\n",
            "remote: Counting objects: 100% (222/222), done.\u001b[K\n",
            "remote: Compressing objects: 100% (145/145), done.\u001b[K\n",
            "remote: Total 13335 (delta 151), reused 135 (delta 64), pack-reused 13113\u001b[K\n",
            "Receiving objects: 100% (13335/13335), 1.27 GiB | 30.15 MiB/s, done.\n",
            "Resolving deltas: 100% (11836/11836), done.\n",
            "Checking out files: 100% (1828/1828), done.\n"
          ],
          "name": "stdout"
        }
      ]
    },
    {
      "cell_type": "markdown",
      "metadata": {
        "id": "AOlKC5U7pAW8"
      },
      "source": [
        "**IMPORTING REQUIRED LIBRARIES**"
      ]
    },
    {
      "cell_type": "code",
      "metadata": {
        "colab": {
          "base_uri": "https://localhost:8080/"
        },
        "id": "9fJSdOZapovT",
        "outputId": "1cb7a953-d9d8-4747-e1ef-e8add7969ea6"
      },
      "source": [
        "!pip install squarify"
      ],
      "execution_count": 2,
      "outputs": [
        {
          "output_type": "stream",
          "text": [
            "Collecting squarify\n",
            "  Downloading https://files.pythonhosted.org/packages/0b/2b/2e77c35326efec19819cd1d729540d4d235e6c2a3f37658288a363a67da5/squarify-0.4.3-py3-none-any.whl\n",
            "Installing collected packages: squarify\n",
            "Successfully installed squarify-0.4.3\n"
          ],
          "name": "stdout"
        }
      ]
    },
    {
      "cell_type": "code",
      "metadata": {
        "id": "I83tHAEQoSja"
      },
      "source": [
        "%matplotlib inline\n",
        "import json\n",
        "from pandas.io.json import json_normalize\n",
        "import numpy as np\n",
        "import seaborn as sns\n",
        "import pandas as pd\n",
        "import matplotlib.pyplot as plt\n",
        "from matplotlib.patches import Arc, Rectangle, ConnectionPatch\n",
        "from matplotlib.offsetbox import  OffsetImage\n",
        "import squarify\n",
        "from functools import reduce\n",
        "from google.colab.patches import cv2_imshow"
      ],
      "execution_count": 3,
      "outputs": []
    },
    {
      "cell_type": "markdown",
      "metadata": {
        "id": "Lp-_Makep9dj"
      },
      "source": [
        "**DRAWING A SIMPLE PITCH**"
      ]
    },
    {
      "cell_type": "code",
      "metadata": {
        "id": "Zj281EvZpmA3"
      },
      "source": [
        "def draw_pitch(ax):\n",
        "    # size of the pitch is 120, 80\n",
        "    #Create figure\n",
        "\n",
        "    #Pitch Outline & Centre Line\n",
        "    plt.plot([0,0],[0,80], color=\"black\")\n",
        "    plt.plot([0,120],[80,80], color=\"black\")\n",
        "    plt.plot([120,120],[80,0], color=\"black\")\n",
        "    plt.plot([120,0],[0,0], color=\"black\")\n",
        "    plt.plot([60,60],[0,80], color=\"black\")\n",
        "\n",
        "    #Left Penalty Area\n",
        "    plt.plot([14.6,14.6],[57.8,22.2],color=\"black\")\n",
        "    plt.plot([0,14.6],[57.8,57.8],color=\"black\")\n",
        "    plt.plot([0,14.6],[22.2,22.2],color=\"black\")\n",
        "\n",
        "    #Right Penalty Area\n",
        "    plt.plot([120,105.4],[57.8,57.8],color=\"black\")\n",
        "    plt.plot([105.4,105.4],[57.8,22.5],color=\"black\")\n",
        "    plt.plot([120, 105.4],[22.5,22.5],color=\"black\")\n",
        "\n",
        "    #Left 6-yard Box\n",
        "    plt.plot([0,4.9],[48,48],color=\"black\")\n",
        "    plt.plot([4.9,4.9],[48,32],color=\"black\")\n",
        "    plt.plot([0,4.9],[32,32],color=\"black\")\n",
        "\n",
        "    #Right 6-yard Box\n",
        "    plt.plot([120,115.1],[48,48],color=\"black\")\n",
        "    plt.plot([115.1,115.1],[48,32],color=\"black\")\n",
        "    plt.plot([120,115.1],[32,32],color=\"black\")\n",
        "\n",
        "    #Prepare Circles\n",
        "    centreCircle = plt.Circle((60,40),8.1,color=\"black\",fill=False)\n",
        "    centreSpot = plt.Circle((60,40),0.71,color=\"black\")\n",
        "    leftPenSpot = plt.Circle((9.7,40),0.71,color=\"black\")\n",
        "    rightPenSpot = plt.Circle((110.3,40),0.71,color=\"black\")\n",
        "\n",
        "    #Draw Circles\n",
        "    ax.add_patch(centreCircle)\n",
        "    ax.add_patch(centreSpot)\n",
        "    ax.add_patch(leftPenSpot)\n",
        "    ax.add_patch(rightPenSpot)\n",
        "\n",
        "    #Prepare Arcs\n",
        "    # arguments for arc\n",
        "    # x, y coordinate of centerpoint of arc\n",
        "    # width, height as arc might not be circle, but oval\n",
        "    # angle: degree of rotation of the shape, anti-clockwise\n",
        "    # theta1, theta2, start and end location of arc in degree\n",
        "    leftArc = Arc((9.7,40),height=16.2,width=16.2,angle=0,theta1=310,theta2=50,color=\"black\")\n",
        "    rightArc = Arc((110.3,40),height=16.2,width=16.2,angle=0,theta1=130,theta2=230,color=\"black\")\n",
        "\n",
        "    #Draw Arcs\n",
        "    ax.add_patch(leftArc)\n",
        "    ax.add_patch(rightArc)"
      ],
      "execution_count": 4,
      "outputs": []
    },
    {
      "cell_type": "code",
      "metadata": {
        "colab": {
          "base_uri": "https://localhost:8080/",
          "height": 320
        },
        "id": "2SWN91Kfp4mG",
        "outputId": "c9861515-f351-4c97-f021-54f20163f8cb"
      },
      "source": [
        "fig=plt.figure()\n",
        "fig.set_size_inches(7, 5)\n",
        "ax=fig.add_subplot(1,1,1)\n",
        "draw_pitch(ax)\n",
        "plt.show()"
      ],
      "execution_count": 5,
      "outputs": [
        {
          "output_type": "display_data",
          "data": {
            "image/png": "[encoded data removed]",
            "text/plain": [
              "<Figure size 504x360 with 1 Axes>"
            ]
          },
          "metadata": {
            "tags": [],
            "needs_background": "light"
          }
        }
      ]
    },
    {
      "cell_type": "markdown",
      "metadata": {
        "id": "yTLJp7gCrEoB"
      },
      "source": [
        "LOADING PLAYER DATA"
      ]
    },
    {
      "cell_type": "code",
      "metadata": {
        "colab": {
          "base_uri": "https://localhost:8080/"
        },
        "id": "Oe9J23SPzCO_",
        "outputId": "2900d89f-6e80-41cd-a0d1-97676d5d677a"
      },
      "source": [
        "data_id = [9700, 9717, 9726, 9736, 9742, 9754, 9765, 9774, 9783, 9794, 9799, 9811, 9827]\n",
        "# consequently read the json and concatenate into a pre-defined dataframe\n",
        "all_barcelona = pd.DataFrame()\n",
        "for i in data_id:\n",
        "    with open('/content/open-data/data/events/'+str(i)+'.json') as data_file:\n",
        "        data = json.load(data_file)\n",
        "    df = json_normalize(data, sep = '_')\n",
        "    if all_barcelona.empty:\n",
        "        all_barcelona = df\n",
        "    else:\n",
        "        all_barcelona = pd.concat([all_barcelona, df], join = 'outer', sort = False)"
      ],
      "execution_count": 18,
      "outputs": [
        {
          "output_type": "stream",
          "text": [
            "/usr/local/lib/python3.7/dist-packages/ipykernel_launcher.py:7: FutureWarning: pandas.io.json.json_normalize is deprecated, use pandas.json_normalize instead\n",
            "  import sys\n"
          ],
          "name": "stderr"
        }
      ]
    },
    {
      "cell_type": "code",
      "metadata": {
        "id": "gu9aV4LjsnDS",
        "colab": {
          "base_uri": "https://localhost:8080/"
        },
        "outputId": "c0aec600-0ff9-48e7-fd39-c58b7eb0fb7c"
      },
      "source": [
        "player_name = input()"
      ],
      "execution_count": 67,
      "outputs": [
        {
          "output_type": "stream",
          "text": [
            "Cristiano Ronaldo dos Santos Aveiro\n"
          ],
          "name": "stdout"
        }
      ]
    },
    {
      "cell_type": "code",
      "metadata": {
        "id": "CczUnrmnwC1a",
        "colab": {
          "base_uri": "https://localhost:8080/"
        },
        "outputId": "d180b9c1-0d1e-46f0-b448-b606bb87c777"
      },
      "source": [
        "player_data = df[(df[\"player_name\"] == player_name)]\n",
        "print(player_data.head())\n",
        "arr = np.unique(player_data['type_name'])\n",
        "arr"
      ],
      "execution_count": 68,
      "outputs": [
        {
          "output_type": "stream",
          "text": [
            "Empty DataFrame\n",
            "Columns: [id, index, period, timestamp, minute, second, possession, duration, type_id, type_name, possession_team_id, possession_team_name, play_pattern_id, play_pattern_name, team_id, team_name, tactics_formation, tactics_lineup, related_events, location, player_id, player_name, position_id, position_name, pass_recipient_id, pass_recipient_name, pass_length, pass_angle, pass_height_id, pass_height_name, pass_end_location, pass_type_id, pass_type_name, pass_body_part_id, pass_body_part_name, carry_end_location, under_pressure, pass_outcome_id, pass_outcome_name, ball_receipt_outcome_id, ball_receipt_outcome_name, counterpress, duel_type_id, duel_type_name, pass_aerial_won, foul_committed_type_id, foul_committed_type_name, pass_switch, pass_through_ball, pass_technique_id, pass_technique_name, dribble_outcome_id, dribble_outcome_name, duel_outcome_id, duel_outcome_name, interception_outcome_id, interception_outcome_name, foul_committed_card_id, foul_committed_card_name, ball_recovery_recovery_failure, pass_backheel, pass_assisted_shot_id, pass_shot_assist, shot_statsbomb_xg, shot_end_location, shot_key_pass_id, shot_first_time, shot_technique_id, shot_technique_name, shot_body_part_id, shot_body_part_name, shot_type_id, shot_type_name, shot_outcome_id, shot_outcome_name, shot_freeze_frame, goalkeeper_technique_id, goalkeeper_technique_name, goalkeeper_position_id, goalkeeper_position_name, goalkeeper_body_part_id, goalkeeper_body_part_name, goalkeeper_type_id, goalkeeper_type_name, goalkeeper_outcome_id, goalkeeper_outcome_name, goalkeeper_end_location, pass_cross, foul_won_defensive, foul_committed_advantage, foul_won_advantage, shot_aerial_won, shot_one_on_one, pass_cut_back, bad_behaviour_card_id, bad_behaviour_card_name, clearance_aerial_won, shot_deflected, block_deflection, foul_committed_penalty, ...]\n",
            "Index: []\n",
            "\n",
            "[0 rows x 108 columns]\n"
          ],
          "name": "stdout"
        },
        {
          "output_type": "execute_result",
          "data": {
            "text/plain": [
              "array([], dtype=object)"
            ]
          },
          "metadata": {
            "tags": []
          },
          "execution_count": 68
        }
      ]
    },
    {
      "cell_type": "code",
      "metadata": {
        "colab": {
          "base_uri": "https://localhost:8080/"
        },
        "id": "8_GSq9uHVZil",
        "outputId": "9e0ed963-08a4-4eea-8d1d-2670e9cae989"
      },
      "source": [
        "passes = pressure = carry = ball_recipt = ball_recovery = block = dribble = dribble_past = duel = foul_won = interception = miscontrol = shot = substitution = 0\n",
        "for i in player_data['type_name']:\n",
        "  if i == \"Pass\":\n",
        "    passes += 1\n",
        "  elif i == \"Carry\":\n",
        "    carry += 1\n",
        "  elif i == \"Pressure\":\n",
        "    pressure += 1\n",
        "  elif i == \"Ball Receipt*\":\n",
        "    ball_recipt += 1\n",
        "  elif i == \"Ball Recovery\":\n",
        "    ball_recovery += 1\n",
        "  elif i == \"Block*\":\n",
        "    block += 1\n",
        "  elif i == \"Dribble\":\n",
        "    dribble += 1\n",
        "  elif i == \"Dribbled Past\":\n",
        "    dribble_past += 1\n",
        "  elif i == \"Duel\":\n",
        "    duel += 1\n",
        "  elif i == \"Foul Won\":\n",
        "    foul_won += 1\n",
        "  elif i == \"Interception\":\n",
        "    interception += 1\n",
        "  elif i == \"Miscontrol\":\n",
        "    miscontrol += 1\n",
        "  elif i == \"Shot\":\n",
        "    shot += 1\n",
        "  elif i == \"Substitution\":\n",
        "    substitution += 1 \n",
        "print(passes, pressure, carry, ball_recipt, ball_recovery, block, dribble, dribble_past, duel, foul_won, interception, miscontrol, shot, substitution)"
      ],
      "execution_count": 64,
      "outputs": [
        {
          "output_type": "stream",
          "text": [
            "42 11 56 57 5 0 6 0 2 6 0 3 4 0\n"
          ],
          "name": "stdout"
        }
      ]
    },
    {
      "cell_type": "code",
      "metadata": {
        "id": "B-AxzHoot9Gs"
      },
      "source": [
        "#code for radar(profile) creation"
      ],
      "execution_count": 16,
      "outputs": []
    },
    {
      "cell_type": "code",
      "metadata": {
        "id": "UabQ9Fe9uwWZ"
      },
      "source": [
        "#rest of code of pass and heatmap and all"
      ],
      "execution_count": 10,
      "outputs": []
    },
    {
      "cell_type": "markdown",
      "metadata": {
        "id": "-JFlzAXFt7I4"
      },
      "source": [
        "*DATA LICENSE*"
      ]
    },
    {
      "cell_type": "code",
      "metadata": {
        "colab": {
          "base_uri": "https://localhost:8080/",
          "height": 180
        },
        "id": "9Kfm5YuRt_X3",
        "outputId": "cc4926f6-9e44-438c-9e6c-a0fdfea86e2a"
      },
      "source": [
        "License_Image = cv2.imread(\"/content/open-data/img/statsbomb-logo.jpg\")\n",
        "cv2_imshow(License_Image)"
      ],
      "execution_count": 11,
      "outputs": [
        {
          "output_type": "error",
          "ename": "NameError",
          "evalue": "ignored",
          "traceback": [
            "\u001b[0;31m---------------------------------------------------------------------------\u001b[0m",
            "\u001b[0;31mNameError\u001b[0m                                 Traceback (most recent call last)",
            "\u001b[0;32m<ipython-input-11-f173daf2a702>\u001b[0m in \u001b[0;36m<module>\u001b[0;34m()\u001b[0m\n\u001b[0;32m----> 1\u001b[0;31m \u001b[0mLicense_Image\u001b[0m \u001b[0;34m=\u001b[0m \u001b[0mcv2\u001b[0m\u001b[0;34m.\u001b[0m\u001b[0mimread\u001b[0m\u001b[0;34m(\u001b[0m\u001b[0;34m\"/content/open-data/img/statsbomb-logo.jpg\"\u001b[0m\u001b[0;34m)\u001b[0m\u001b[0;34m\u001b[0m\u001b[0;34m\u001b[0m\u001b[0m\n\u001b[0m\u001b[1;32m      2\u001b[0m \u001b[0mcv2_imshow\u001b[0m\u001b[0;34m(\u001b[0m\u001b[0mLicense_Image\u001b[0m\u001b[0;34m)\u001b[0m\u001b[0;34m\u001b[0m\u001b[0;34m\u001b[0m\u001b[0m\n",
            "\u001b[0;31mNameError\u001b[0m: name 'cv2' is not defined"
          ]
        }
      ]
    },
    {
      "cell_type": "code",
      "metadata": {
        "id": "2MBZcMAquSEQ"
      },
      "source": [
        ""
      ],
      "execution_count": null,
      "outputs": []
    }
  ]
}